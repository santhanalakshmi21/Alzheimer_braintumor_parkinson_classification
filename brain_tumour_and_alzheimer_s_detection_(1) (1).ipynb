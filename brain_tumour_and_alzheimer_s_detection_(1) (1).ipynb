{
  "metadata": {
    "kernelspec": {
      "language": "python",
      "display_name": "Python 3",
      "name": "python3"
    },
    "language_info": {
      "name": "python",
      "version": "3.7.12",
      "mimetype": "text/x-python",
      "codemirror_mode": {
        "name": "ipython",
        "version": 3
      },
      "pygments_lexer": "ipython3",
      "nbconvert_exporter": "python",
      "file_extension": ".py"
    },
    "colab": {
      "private_outputs": true,
      "provenance": [],
      "gpuType": "T4"
    },
    "accelerator": "GPU",
    "gpuClass": "standard"
  },
  "nbformat_minor": 0,
  "nbformat": 4,
  "cells": [
    {
      "cell_type": "code",
      "source": [
        "!pip install -q kaggle"
      ],
      "metadata": {
        "id": "8wW2Hgxh2HZ7"
      },
      "execution_count": null,
      "outputs": []
    },
    {
      "cell_type": "code",
      "source": [
        "from google.colab import files \n",
        "files.upload()"
      ],
      "metadata": {
        "id": "a0ZFgZSe2HqT"
      },
      "execution_count": null,
      "outputs": []
    },
    {
      "cell_type": "code",
      "source": [
        "!rm -r ~/.kaggle\n",
        "! mkdir ~/.kaggle"
      ],
      "metadata": {
        "id": "Z7bo4Xwx2H3x"
      },
      "execution_count": null,
      "outputs": []
    },
    {
      "cell_type": "code",
      "source": [
        "! cp kaggle.json ~/.kaggle"
      ],
      "metadata": {
        "id": "WENgNTon30Vy"
      },
      "execution_count": null,
      "outputs": []
    },
    {
      "cell_type": "code",
      "source": [
        "! chmod 600 ~/.kaggle/kaggle.json"
      ],
      "metadata": {
        "id": "KnOzZQEe30ea"
      },
      "execution_count": null,
      "outputs": []
    },
    {
      "cell_type": "code",
      "source": [
        "! kaggle datasets list"
      ],
      "metadata": {
        "id": "CkQicl-i30kt"
      },
      "execution_count": null,
      "outputs": []
    },
    {
      "cell_type": "code",
      "source": [
        "!kaggle datasets download -d jboysen/mri-and-alzheimers"
      ],
      "metadata": {
        "id": "88gU0DqP39FI"
      },
      "execution_count": null,
      "outputs": []
    },
    {
      "cell_type": "code",
      "source": [
        "!kaggle datasets download -d mateuszbuda/lgg-mri-segmentation"
      ],
      "metadata": {
        "id": "JFSabRnA39IW"
      },
      "execution_count": null,
      "outputs": []
    },
    {
      "cell_type": "code",
      "source": [
        "!kaggle datasets download -d jakeshbohaju/brain-tumor"
      ],
      "metadata": {
        "id": "u5Zb7lFb4G1R"
      },
      "execution_count": null,
      "outputs": []
    },
    {
      "cell_type": "code",
      "source": [
        "! unzip brain-tumor.zip"
      ],
      "metadata": {
        "id": "TU0zG96K4HDK"
      },
      "execution_count": null,
      "outputs": []
    },
    {
      "cell_type": "code",
      "source": [
        "! unzip lgg-mri-segmentation.zip"
      ],
      "metadata": {
        "id": "PJKTxMOw4HK8"
      },
      "execution_count": null,
      "outputs": []
    },
    {
      "cell_type": "code",
      "source": [
        "! unzip mri-and-alzheimers.zip"
      ],
      "metadata": {
        "id": "DhtHrfDD39Ld"
      },
      "execution_count": null,
      "outputs": []
    },
    {
      "cell_type": "code",
      "source": [
        "! unzip brain-tumor.zip\n"
      ],
      "metadata": {
        "id": "EH6Q7MbY7Krq"
      },
      "execution_count": null,
      "outputs": []
    },
    {
      "cell_type": "code",
      "source": [
        "import pandas as pd\n",
        "import numpy as np\n",
        "import os\n",
        "from mpl_toolkits.axes_grid1 import ImageGrid # for plotting the images as graphs\n",
        "\n",
        "\n",
        "import cv2 # masking images\n",
        "from glob import glob\n",
        "\n",
        "import warnings\n",
        "warnings.filterwarnings(\"ignore\")\n",
        "\n",
        "import tensorflow as tf\n",
        "from tensorflow import keras\n",
        "from tensorflow.keras import layers, Input\n",
        "from keras.layers import InputLayer, MaxPooling2D, Flatten, Dense, Conv2D, Dropout\n",
        "from keras.losses import BinaryCrossentropy\n",
        "from tensorflow.keras.models import Sequential, Model\n",
        "from tensorflow.keras.preprocessing import image \n",
        "from tensorflow.keras.applications.resnet50 import preprocess_input, decode_predictions, ResNet50  #VGG-16\n",
        "from tensorflow.keras.optimizers import Adam, SGD # (adagrad + momentum)  SGD-->(stochastic gradient descent)\n",
        "from tensorflow.keras import backend as K #cache \n",
        "from tensorflow.keras.preprocessing.image import ImageDataGenerator\n",
        "from tensorflow.keras.callbacks import EarlyStopping, ModelCheckpoint, ReduceLROnPlateau\n",
        "from sklearn.utils import shuffle\n",
        "from sklearn.model_selection import train_test_split\n",
        "from PIL.Image import open\n",
        "\n",
        "from sklearn.metrics import precision_recall_curve\n",
        "#from sklearn.metrics._plot import plot_precision_recall_curve\n",
        "\n",
        "from sklearn.metrics import precision_score\n",
        "from sklearn.metrics import recall_score\n",
        "\n",
        "from tensorflow.keras.models import Model, load_model, save_model  # controls modelling\n",
        "from tensorflow.keras.layers import Input, Activation, BatchNormalization, Dropout, Lambda\n",
        "from tensorflow.keras.layers import Conv2DTranspose, MaxPooling2D, concatenate, AveragePooling2D, Dense, Flatten\n",
        "\n",
        "import seaborn as sns\n",
        "from  matplotlib import pyplot as plt\n",
        "import matplotlib.image as mpimg\n",
        "import random\n",
        "%matplotlib inline"
      ],
      "metadata": {
        "execution": {
          "iopub.status.busy": "2023-04-14T11:57:47.023255Z",
          "iopub.execute_input": "2023-04-14T11:57:47.024141Z",
          "iopub.status.idle": "2023-04-14T11:57:47.040938Z",
          "shell.execute_reply.started": "2023-04-14T11:57:47.024073Z",
          "shell.execute_reply": "2023-04-14T11:57:47.039313Z"
        },
        "trusted": true,
        "id": "yvBM-di91_sb"
      },
      "execution_count": null,
      "outputs": []
    },
    {
      "cell_type": "code",
      "source": [
        "# Constants\n",
        "IMAGE_DATASET = \"./Brain Tumor/Brain Tumor\"\n",
        "IMAGE_DATASET_RAW = r\".\\brain-tumor\\Brain Tumor\\Brain Tumor\"\n",
        "WORKING_FOLDER = \"./kaggle/working\"\n",
        "IMG_HEIGHT = 224\n",
        "IMG_WIDTH = 224\n",
        "EPOCHS = 50"
      ],
      "metadata": {
        "execution": {
          "iopub.status.busy": "2023-04-14T11:58:24.724712Z",
          "iopub.execute_input": "2023-04-14T11:58:24.725375Z",
          "iopub.status.idle": "2023-04-14T11:58:24.730976Z",
          "shell.execute_reply.started": "2023-04-14T11:58:24.725336Z",
          "shell.execute_reply": "2023-04-14T11:58:24.730131Z"
        },
        "trusted": true,
        "id": "OggXHVja1_sf"
      },
      "execution_count": null,
      "outputs": []
    },
    {
      "cell_type": "code",
      "source": [
        "# We will import the csv file containing the features and the classes of the images\n",
        "cortex_df = pd.read_csv(\"Brain Tumor.csv\")\n",
        "cortex_df.head()"
      ],
      "metadata": {
        "execution": {
          "iopub.status.busy": "2023-04-14T11:58:29.260442Z",
          "iopub.execute_input": "2023-04-14T11:58:29.260815Z",
          "iopub.status.idle": "2023-04-14T11:58:29.293524Z",
          "shell.execute_reply.started": "2023-04-14T11:58:29.260784Z",
          "shell.execute_reply": "2023-04-14T11:58:29.292459Z"
        },
        "trusted": true,
        "id": "6zXthNlJ1_sf"
      },
      "execution_count": null,
      "outputs": []
    },
    {
      "cell_type": "code",
      "source": [
        "cortex_df.shape"
      ],
      "metadata": {
        "execution": {
          "iopub.status.busy": "2023-04-14T11:58:32.314477Z",
          "iopub.execute_input": "2023-04-14T11:58:32.314840Z",
          "iopub.status.idle": "2023-04-14T11:58:32.321435Z",
          "shell.execute_reply.started": "2023-04-14T11:58:32.314808Z",
          "shell.execute_reply": "2023-04-14T11:58:32.320152Z"
        },
        "trusted": true,
        "id": "4kq-I9eM1_sf"
      },
      "execution_count": null,
      "outputs": []
    },
    {
      "cell_type": "code",
      "source": [
        "dff = cortex_df.corr()\n",
        "dff"
      ],
      "metadata": {
        "execution": {
          "iopub.status.busy": "2023-04-14T11:58:34.753459Z",
          "iopub.execute_input": "2023-04-14T11:58:34.753816Z",
          "iopub.status.idle": "2023-04-14T11:58:34.783324Z",
          "shell.execute_reply.started": "2023-04-14T11:58:34.753786Z",
          "shell.execute_reply": "2023-04-14T11:58:34.782085Z"
        },
        "trusted": true,
        "id": "xBCFRCoj1_sg"
      },
      "execution_count": null,
      "outputs": []
    },
    {
      "cell_type": "code",
      "source": [
        "plt.figure(figsize=(12,10))\n",
        "sns.heatmap(dff,annot=True)\n",
        "plt.title('Correlation between the paramters')  # Spearman's Matrix"
      ],
      "metadata": {
        "execution": {
          "iopub.status.busy": "2023-04-14T11:58:38.162042Z",
          "iopub.execute_input": "2023-04-14T11:58:38.162999Z",
          "iopub.status.idle": "2023-04-14T11:58:39.058786Z",
          "shell.execute_reply.started": "2023-04-14T11:58:38.162962Z",
          "shell.execute_reply": "2023-04-14T11:58:39.057827Z"
        },
        "trusted": true,
        "id": "QNTBX5sf1_sg"
      },
      "execution_count": null,
      "outputs": []
    },
    {
      "cell_type": "code",
      "source": [
        "# Set parameters\n",
        "IMAGE_SIZE = (256, 256) "
      ],
      "metadata": {
        "execution": {
          "iopub.status.busy": "2023-04-14T11:58:42.741961Z",
          "iopub.execute_input": "2023-04-14T11:58:42.742679Z",
          "iopub.status.idle": "2023-04-14T11:58:42.747429Z",
          "shell.execute_reply.started": "2023-04-14T11:58:42.742637Z",
          "shell.execute_reply": "2023-04-14T11:58:42.746252Z"
        },
        "trusted": true,
        "id": "aVNvQpEK1_sg"
      },
      "execution_count": null,
      "outputs": []
    },
    {
      "cell_type": "code",
      "source": [
        "mask_files = glob('./lgg-mri-segmentation/kaggle_3m/*/*_mask*')\n",
        "train_files = [file.replace('_mask', '') for file in mask_files]"
      ],
      "metadata": {
        "execution": {
          "iopub.status.busy": "2023-04-14T11:58:49.245537Z",
          "iopub.execute_input": "2023-04-14T11:58:49.245900Z",
          "iopub.status.idle": "2023-04-14T11:58:51.325828Z",
          "shell.execute_reply.started": "2023-04-14T11:58:49.245869Z",
          "shell.execute_reply": "2023-04-14T11:58:51.324857Z"
        },
        "trusted": true,
        "id": "htywrwMd1_sg"
      },
      "execution_count": null,
      "outputs": []
    },
    {
      "cell_type": "code",
      "source": [
        "def diagnosis(mask_path):\n",
        "    value = np.max(cv2.imread(mask_path))\n",
        "    return '1' if value > 0 else '0'\n",
        "df = pd.DataFrame({\"image_path\": train_files,\n",
        "                   \"mask_path\": mask_files,\n",
        "                  \"diagnosis\":[diagnosis(x) for x in mask_files]})\n",
        "df.head()"
      ],
      "metadata": {
        "execution": {
          "iopub.status.busy": "2023-04-14T11:58:54.576056Z",
          "iopub.execute_input": "2023-04-14T11:58:54.576444Z",
          "iopub.status.idle": "2023-04-14T11:59:23.860181Z",
          "shell.execute_reply.started": "2023-04-14T11:58:54.576412Z",
          "shell.execute_reply": "2023-04-14T11:59:23.859053Z"
        },
        "trusted": true,
        "id": "CVV3fBH-1_sh"
      },
      "execution_count": null,
      "outputs": []
    },
    {
      "cell_type": "code",
      "source": [
        "plt.figure(figsize=(20,20))\n",
        "test_folder=\"./Brain Tumor/Brain Tumor\" \n",
        "for i in range(5):\n",
        "    file = random.choice(os.listdir(test_folder))\n",
        "    image_path= os.path.join(test_folder, file)\n",
        "    img=mpimg.imread(image_path)\n",
        "    ax=plt.subplot(1,5,i+1)\n",
        "    ax.title.set_text(file)\n",
        "    plt.imshow(img)"
      ],
      "metadata": {
        "execution": {
          "iopub.status.busy": "2023-04-14T11:59:29.267681Z",
          "iopub.execute_input": "2023-04-14T11:59:29.268029Z",
          "iopub.status.idle": "2023-04-14T11:59:30.782207Z",
          "shell.execute_reply.started": "2023-04-14T11:59:29.267998Z",
          "shell.execute_reply": "2023-04-14T11:59:30.781039Z"
        },
        "trusted": true,
        "id": "jYFOBzdg1_sh"
      },
      "execution_count": null,
      "outputs": []
    },
    {
      "cell_type": "code",
      "source": [
        "dataset_df = pd.DataFrame()\n",
        "dataset_df[\"Image\"] = cortex_df[\"Image\"]\n",
        "dataset_df[\"Class\"] = cortex_df[\"Class\"]\n",
        "path_list = []\n",
        "for img_path in os.listdir(IMAGE_DATASET):\n",
        "    path_list.append( os.path.join(IMAGE_DATASET,img_path))\n",
        "path_dict = {os.path.splitext(os.path.basename(x))[0]: x for x in path_list}\n",
        "dataset_df[\"paths\"] = cortex_df[\"Image\"].map(path_dict.get)\n",
        "dataset_df[\"pixels\"] = dataset_df[\"paths\"].map(lambda x:np.asarray(open(x).resize((IMG_HEIGHT,IMG_WIDTH))))\n",
        "dataset_df.head()"
      ],
      "metadata": {
        "execution": {
          "iopub.status.busy": "2023-04-14T11:59:33.825997Z",
          "iopub.execute_input": "2023-04-14T11:59:33.826687Z",
          "iopub.status.idle": "2023-04-14T12:00:31.155882Z",
          "shell.execute_reply.started": "2023-04-14T11:59:33.826649Z",
          "shell.execute_reply": "2023-04-14T12:00:31.154908Z"
        },
        "trusted": true,
        "id": "_EFZrIxx1_sh"
      },
      "execution_count": null,
      "outputs": []
    },
    {
      "cell_type": "code",
      "source": [
        "ax = df['diagnosis'].value_counts().plot(kind='bar', stacked=True, figsize=(10,6), color=['blue', 'red'])\n",
        "ax.set_title('Data Distribution')\n",
        "ax.set_ylabel('Total Images', fontsize=15)\n",
        "ax.set_xticklabels(['No Tumor', 'Tumor'], fontsize=12, rotation=0)\n",
        "for i, rows in enumerate(df['diagnosis'].value_counts().values):\n",
        "    ax.annotate(int(rows), xy=(i, rows+12), ha='center', fontweight='bold', fontsize=15)"
      ],
      "metadata": {
        "execution": {
          "iopub.status.busy": "2023-04-14T12:00:35.128406Z",
          "iopub.execute_input": "2023-04-14T12:00:35.128772Z",
          "iopub.status.idle": "2023-04-14T12:00:35.333205Z",
          "shell.execute_reply.started": "2023-04-14T12:00:35.128740Z",
          "shell.execute_reply": "2023-04-14T12:00:35.332045Z"
        },
        "trusted": true,
        "id": "LeEDkYAL1_si"
      },
      "execution_count": null,
      "outputs": []
    },
    {
      "cell_type": "code",
      "source": [
        "print(df)"
      ],
      "metadata": {
        "id": "QFX30TCIAiJj"
      },
      "execution_count": null,
      "outputs": []
    },
    {
      "cell_type": "code",
      "source": [
        "df_positive = df[df['diagnosis']=='1'].sample(5).values  # cases where tumor is found\n",
        "df_negative = df[df['diagnosis']=='0'].sample(5).values  # cases where tumor is not found\n",
        "\n",
        "def show_data(df, positive=True):\n",
        "    images = []\n",
        "    masks = []\n",
        "    for data in df:\n",
        "        img = cv2.imread(data[0])\n",
        "        mask = cv2.imread(data[1])\n",
        "        images.append(img)\n",
        "        masks.append(mask)\n",
        "    images = np.hstack(np.array(images))\n",
        "    masks = np.hstack(np.array(masks))\n",
        "    \n",
        "    fig = plt.figure(figsize=(25,25))\n",
        "    if positive:\n",
        "        grid = ImageGrid(fig, 111, nrows_ncols=(3,1), axes_pad=0.5)\n",
        "    else:\n",
        "        grid = ImageGrid(fig, 111, nrows_ncols=(2,1), axes_pad=0.5)\n",
        "    grid[0].imshow(images)\n",
        "    grid[0].set_title('Images', fontsize=15)\n",
        "    grid[0].axis('off')\n",
        "    grid[1].imshow(masks)\n",
        "    grid[1].set_title('Masks', fontsize=15)\n",
        "    grid[1].axis('off')\n",
        "    if positive:\n",
        "        grid[2].imshow(images)\n",
        "        grid[2].imshow(masks, alpha=0.4)\n",
        "        grid[2].set_title('Brain MRI with mask', fontsize=15)\n",
        "        grid[2].axis('off')\n",
        "        \n",
        "show_data(df_positive)\n",
        "show_data(df_negative, positive=False)"
      ],
      "metadata": {
        "execution": {
          "iopub.status.busy": "2023-04-14T12:00:40.309394Z",
          "iopub.execute_input": "2023-04-14T12:00:40.309768Z",
          "iopub.status.idle": "2023-04-14T12:00:42.047584Z",
          "shell.execute_reply.started": "2023-04-14T12:00:40.309736Z",
          "shell.execute_reply": "2023-04-14T12:00:42.045768Z"
        },
        "trusted": true,
        "id": "WOTvIpxk1_si"
      },
      "execution_count": null,
      "outputs": []
    },
    {
      "cell_type": "code",
      "source": [
        "image_list = []\n",
        "for i in range(len(dataset_df)):\n",
        "    brain_image = dataset_df[\"pixels\"][i].astype(np.float32)\n",
        "    brain_image /= 255\n",
        "    image_list.append(brain_image)\n",
        "X = np.array(image_list)\n",
        "print(X.shape)"
      ],
      "metadata": {
        "execution": {
          "iopub.status.busy": "2023-04-14T12:00:49.778833Z",
          "iopub.execute_input": "2023-04-14T12:00:49.779231Z",
          "iopub.status.idle": "2023-04-14T12:00:52.023747Z",
          "shell.execute_reply.started": "2023-04-14T12:00:49.779197Z",
          "shell.execute_reply": "2023-04-14T12:00:52.022719Z"
        },
        "trusted": true,
        "id": "qqIe4WhU1_sj"
      },
      "execution_count": null,
      "outputs": []
    },
    {
      "cell_type": "code",
      "source": [
        "y = np.array(dataset_df.Class)\n",
        "y.shape"
      ],
      "metadata": {
        "execution": {
          "iopub.status.busy": "2023-04-14T12:00:59.577002Z",
          "iopub.execute_input": "2023-04-14T12:00:59.577491Z",
          "iopub.status.idle": "2023-04-14T12:00:59.586741Z",
          "shell.execute_reply.started": "2023-04-14T12:00:59.577449Z",
          "shell.execute_reply": "2023-04-14T12:00:59.585828Z"
        },
        "trusted": true,
        "id": "vlFovPSk1_sj"
      },
      "execution_count": null,
      "outputs": []
    },
    {
      "cell_type": "code",
      "source": [
        "from sklearn.model_selection import train_test_split\n",
        "df_train, df_test = train_test_split(df, test_size=0.15)\n",
        "df_train, df_val = train_test_split(df_train, test_size=0.15)\n",
        "print(df_train.values.shape)\n",
        "print(df_val.values.shape)\n",
        "print(df_test.values.shape)"
      ],
      "metadata": {
        "execution": {
          "iopub.status.busy": "2023-04-14T12:01:02.254292Z",
          "iopub.execute_input": "2023-04-14T12:01:02.254642Z",
          "iopub.status.idle": "2023-04-14T12:01:02.264513Z",
          "shell.execute_reply.started": "2023-04-14T12:01:02.254612Z",
          "shell.execute_reply": "2023-04-14T12:01:02.263529Z"
        },
        "trusted": true,
        "id": "JLJrHd5F1_sj"
      },
      "execution_count": null,
      "outputs": []
    },
    {
      "cell_type": "code",
      "source": [
        "X_train, X_test, y_train, y_test = train_test_split(X, y, test_size=0.2)\n",
        "print('The shape of the X_train :'+' '+str(X_train.shape))\n",
        "print('The size of the X_train :'+' '+str(X_train.shape[0]))\n",
        "print('The shape of the X_test :'+' '+str(X_test.shape))\n",
        "print('The size of the X_test:'+' '+str(X_test.shape[0]))"
      ],
      "metadata": {
        "execution": {
          "iopub.status.busy": "2023-04-14T12:01:06.915515Z",
          "iopub.execute_input": "2023-04-14T12:01:06.915869Z",
          "iopub.status.idle": "2023-04-14T12:01:07.550420Z",
          "shell.execute_reply.started": "2023-04-14T12:01:06.915839Z",
          "shell.execute_reply": "2023-04-14T12:01:07.549497Z"
        },
        "trusted": true,
        "id": "qYurqU671_sj"
      },
      "execution_count": null,
      "outputs": []
    },
    {
      "cell_type": "code",
      "source": [
        "def model(input_shape):\n",
        "#     res_conv = ResNet50(include_top=False, weights=\"imagenet\", input_tensor=None, input_shape=input_shape, pooling=None)\n",
        "    model = Sequential()\n",
        "    \n",
        "    model.add(Input(shape=input_shape))\n",
        "\n",
        "    model.add(Conv2D(16, kernel_size=3, strides=(2, 2), padding=\"same\", activation=\"relu\", kernel_initializer=\"he_normal\"))\n",
        "    model.add(Conv2D(16, kernel_size=3, strides=(2, 2), padding=\"same\", activation=\"relu\", kernel_initializer=\"he_normal\"))\n",
        "    model.add(MaxPooling2D(pool_size=(2, 2), data_format=\"channels_last\", padding='same'))\n",
        "            \n",
        "    model.add(Conv2D(32, kernel_size=3, strides=(2, 2), padding=\"same\", activation=\"relu\", kernel_initializer=\"he_normal\"))\n",
        "    model.add(Conv2D(32, kernel_size=3, strides=(2, 2), padding=\"same\", activation=\"relu\", kernel_initializer=\"he_normal\"))\n",
        "    model.add(MaxPooling2D(pool_size=(2, 2), data_format=\"channels_last\", padding='same'))\n",
        "    \n",
        "    model.add(Conv2D(64, kernel_size=3, strides=(2, 2), padding=\"same\", activation=\"relu\", kernel_initializer=\"he_normal\"))\n",
        "    model.add(Conv2D(64, kernel_size=3, strides=(2, 2), padding=\"same\", activation=\"relu\", kernel_initializer=\"he_normal\"))\n",
        "    model.add(MaxPooling2D(pool_size=(2, 2), data_format=\"channels_last\", padding='same'))\n",
        "    \n",
        "     \n",
        "    model.add(Flatten())\n",
        "    model.add(Dense(256, activation=\"relu\"))\n",
        "    model.add(Dense(128, activation=\"relu\"))\n",
        "#     model.add(Dropout(0.4))\n",
        "    model.add(Dense(1, activation=\"sigmoid\"))    # Never use sigmoid for binary classification\n",
        "    \n",
        "    return model"
      ],
      "metadata": {
        "execution": {
          "iopub.status.busy": "2023-04-14T12:01:12.413673Z",
          "iopub.execute_input": "2023-04-14T12:01:12.414022Z",
          "iopub.status.idle": "2023-04-14T12:01:12.425519Z",
          "shell.execute_reply.started": "2023-04-14T12:01:12.413991Z",
          "shell.execute_reply": "2023-04-14T12:01:12.424597Z"
        },
        "trusted": true,
        "id": "e2oxt_0N1_sj"
      },
      "execution_count": null,
      "outputs": []
    },
    {
      "cell_type": "code",
      "source": [
        "model = model(input_shape = (IMG_HEIGHT, IMG_WIDTH, 3))\n",
        "model.summary()"
      ],
      "metadata": {
        "execution": {
          "iopub.status.busy": "2023-04-14T12:01:20.237674Z",
          "iopub.execute_input": "2023-04-14T12:01:20.238034Z",
          "iopub.status.idle": "2023-04-14T12:01:22.881858Z",
          "shell.execute_reply.started": "2023-04-14T12:01:20.238002Z",
          "shell.execute_reply": "2023-04-14T12:01:22.880889Z"
        },
        "trusted": true,
        "id": "5lrb0g_t1_sk"
      },
      "execution_count": null,
      "outputs": []
    },
    {
      "cell_type": "code",
      "source": [
        "# optimizer = Adam(learning_rate=0.001, beta_1=0.9, beta_2=0.999, epsilon=1e-07, amsgrad=False, name=\"Adam\",)\n",
        "optimizer = SGD(learning_rate=0.01)\n",
        "loss_fn = BinaryCrossentropy(from_logits=True)\n",
        "model.compile(optimizer=optimizer, loss=loss_fn, metrics=['accuracy'])  # f1 score"
      ],
      "metadata": {
        "execution": {
          "iopub.status.busy": "2023-04-14T12:01:27.899722Z",
          "iopub.execute_input": "2023-04-14T12:01:27.900096Z",
          "iopub.status.idle": "2023-04-14T12:01:27.916692Z",
          "shell.execute_reply.started": "2023-04-14T12:01:27.900065Z",
          "shell.execute_reply": "2023-04-14T12:01:27.915739Z"
        },
        "trusted": true,
        "id": "OXGS2Nxq1_sk"
      },
      "execution_count": null,
      "outputs": []
    },
    {
      "cell_type": "code",
      "source": [
        "# Training the model\n",
        "history = model.fit(x=X_train, y=y_train, epochs=5, batch_size=5)"
      ],
      "metadata": {
        "execution": {
          "iopub.status.busy": "2023-04-14T12:01:50.013918Z",
          "iopub.execute_input": "2023-04-14T12:01:50.014295Z",
          "iopub.status.idle": "2023-04-14T12:03:39.780967Z",
          "shell.execute_reply.started": "2023-04-14T12:01:50.014262Z",
          "shell.execute_reply": "2023-04-14T12:03:39.780029Z"
        },
        "trusted": true,
        "id": "sXDikdmr1_sk"
      },
      "execution_count": null,
      "outputs": []
    },
    {
      "cell_type": "code",
      "source": [
        "eval_score = model.evaluate(X_test, y_test)\n",
        "print(\"Test loss:\", eval_score[0])\n",
        "print(\"Test accuracy:\", eval_score[1])"
      ],
      "metadata": {
        "execution": {
          "iopub.status.busy": "2023-04-14T12:03:44.194950Z",
          "iopub.execute_input": "2023-04-14T12:03:44.195339Z",
          "iopub.status.idle": "2023-04-14T12:03:45.651029Z",
          "shell.execute_reply.started": "2023-04-14T12:03:44.195306Z",
          "shell.execute_reply": "2023-04-14T12:03:45.649814Z"
        },
        "trusted": true,
        "id": "VgPZ_iYu1_sk"
      },
      "execution_count": null,
      "outputs": []
    },
    {
      "cell_type": "code",
      "source": [
        "print(\"The maximum accuracy obtained = {0:.2f}\".format(eval_score[1]*100),\"%\")"
      ],
      "metadata": {
        "execution": {
          "iopub.status.busy": "2023-04-14T12:03:48.957721Z",
          "iopub.execute_input": "2023-04-14T12:03:48.958083Z",
          "iopub.status.idle": "2023-04-14T12:03:48.964325Z",
          "shell.execute_reply.started": "2023-04-14T12:03:48.958052Z",
          "shell.execute_reply": "2023-04-14T12:03:48.963271Z"
        },
        "trusted": true,
        "id": "n6BkIntB1_sl"
      },
      "execution_count": null,
      "outputs": []
    },
    {
      "cell_type": "markdown",
      "source": [
        "## Feature Engineering"
      ],
      "metadata": {
        "id": "hhtukWVt1_sl"
      }
    },
    {
      "cell_type": "code",
      "source": [
        "def train_generator(data_frame, batch_size, aug_dict,\n",
        "        image_color_mode=\"rgb\",\n",
        "        mask_color_mode=\"grayscale\",\n",
        "        image_save_prefix=\"image\",\n",
        "        mask_save_prefix=\"mask\",\n",
        "        save_to_dir=None,\n",
        "        target_size=(256,256),\n",
        "        seed=1):\n",
        "\n",
        "    image_datagen = ImageDataGenerator(**aug_dict)\n",
        "    mask_datagen = ImageDataGenerator(**aug_dict)\n",
        "    \n",
        "    image_generator = image_datagen.flow_from_dataframe(\n",
        "        data_frame,\n",
        "        x_col = \"image_path\",\n",
        "        class_mode = None,\n",
        "        color_mode = image_color_mode,\n",
        "        target_size = target_size,\n",
        "        batch_size = batch_size,\n",
        "        save_to_dir = save_to_dir,\n",
        "        save_prefix  = image_save_prefix,\n",
        "        seed = seed)\n",
        "\n",
        "    mask_generator = mask_datagen.flow_from_dataframe(\n",
        "        data_frame,\n",
        "        x_col = \"mask_path\",\n",
        "        class_mode = None,\n",
        "        color_mode = mask_color_mode,\n",
        "        target_size = target_size,\n",
        "        batch_size = batch_size,\n",
        "        save_to_dir = save_to_dir,\n",
        "        save_prefix  = mask_save_prefix,\n",
        "        seed = seed)\n",
        "\n",
        "    train_gen = zip(image_generator, mask_generator)\n",
        "    \n",
        "    for (img, mask) in train_gen:\n",
        "        img, mask = adjust_data(img, mask)\n",
        "        yield (img,mask)\n",
        "\n",
        "def adjust_data(img,mask):\n",
        "    img = img / 255.\n",
        "    mask = mask / 255.\n",
        "    mask[mask > 0.5] = 1\n",
        "    mask[mask <= 0.5] = 0\n",
        "    \n",
        "    return (img, mask)"
      ],
      "metadata": {
        "execution": {
          "iopub.status.busy": "2023-04-14T12:03:51.612788Z",
          "iopub.execute_input": "2023-04-14T12:03:51.613178Z",
          "iopub.status.idle": "2023-04-14T12:03:51.652383Z",
          "shell.execute_reply.started": "2023-04-14T12:03:51.613142Z",
          "shell.execute_reply": "2023-04-14T12:03:51.651369Z"
        },
        "trusted": true,
        "id": "1-v7F8z91_sm"
      },
      "execution_count": null,
      "outputs": []
    },
    {
      "cell_type": "code",
      "source": [
        "def unet(input_size=(256,256,3)):\n",
        "    inputs = Input(input_size)\n",
        "    \n",
        "    conv1 = Conv2D(64, (3, 3), padding='same')(inputs)\n",
        "    bn1 = Activation('relu')(conv1)\n",
        "    conv1 = Conv2D(64, (3, 3), padding='same')(bn1)\n",
        "    bn1 = BatchNormalization(axis=3)(conv1)\n",
        "    bn1 = Activation('relu')(bn1)\n",
        "    pool1 = MaxPooling2D(pool_size=(2, 2))(bn1)\n",
        "\n",
        "    conv2 = Conv2D(128, (3, 3), padding='same')(pool1)\n",
        "    bn2 = Activation('relu')(conv2)\n",
        "    conv2 = Conv2D(128, (3, 3), padding='same')(bn2)\n",
        "    bn2 = BatchNormalization(axis=3)(conv2)\n",
        "    bn2 = Activation('relu')(bn2)\n",
        "    pool2 = MaxPooling2D(pool_size=(2, 2))(bn2)\n",
        "\n",
        "    conv3 = Conv2D(256, (3, 3), padding='same')(pool2)\n",
        "    bn3 = Activation('relu')(conv3)\n",
        "    conv3 = Conv2D(256, (3, 3), padding='same')(bn3)\n",
        "    bn3 = BatchNormalization(axis=3)(conv3)\n",
        "    bn3 = Activation('relu')(bn3)\n",
        "    pool3 = MaxPooling2D(pool_size=(2, 2))(bn3)\n",
        "\n",
        "    conv4 = Conv2D(512, (3, 3), padding='same')(pool3)\n",
        "    bn4 = Activation('relu')(conv4)\n",
        "    conv4 = Conv2D(512, (3, 3), padding='same')(bn4)\n",
        "    bn4 = BatchNormalization(axis=3)(conv4)\n",
        "    bn4 = Activation('relu')(bn4)\n",
        "    pool4 = MaxPooling2D(pool_size=(2, 2))(bn4)\n",
        "\n",
        "    conv5 = Conv2D(1024, (3, 3), padding='same')(pool4)\n",
        "    bn5 = Activation('relu')(conv5)\n",
        "    conv5 = Conv2D(1024, (3, 3), padding='same')(bn5)\n",
        "    bn5 = BatchNormalization(axis=3)(conv5)\n",
        "    bn5 = Activation('relu')(bn5)\n",
        "\n",
        "    up6 = concatenate([Conv2DTranspose(512, (2, 2), strides=(2, 2), padding='same')(bn5), conv4], axis=3)\n",
        "    conv6 = Conv2D(512, (3, 3), padding='same')(up6)\n",
        "    bn6 = Activation('relu')(conv6)\n",
        "    conv6 = Conv2D(512, (3, 3), padding='same')(bn6)\n",
        "    bn6 = BatchNormalization(axis=3)(conv6)\n",
        "    bn6 = Activation('relu')(bn6)\n",
        "\n",
        "    up7 = concatenate([Conv2DTranspose(256, (2, 2), strides=(2, 2), padding='same')(bn6), conv3], axis=3)\n",
        "    conv7 = Conv2D(256, (3, 3), padding='same')(up7)\n",
        "    bn7 = Activation('relu')(conv7)\n",
        "    conv7 = Conv2D(256, (3, 3), padding='same')(bn7)\n",
        "    bn7 = BatchNormalization(axis=3)(conv7)\n",
        "    bn7 = Activation('relu')(bn7)\n",
        "\n",
        "    up8 = concatenate([Conv2DTranspose(128, (2, 2), strides=(2, 2), padding='same')(bn7), conv2], axis=3)\n",
        "    conv8 = Conv2D(128, (3, 3), padding='same')(up8)\n",
        "    bn8 = Activation('relu')(conv8)\n",
        "    conv8 = Conv2D(128, (3, 3), padding='same')(bn8)\n",
        "    bn8 = BatchNormalization(axis=3)(conv8)\n",
        "    bn8 = Activation('relu')(bn8)\n",
        "\n",
        "    up9 = concatenate([Conv2DTranspose(64, (2, 2), strides=(2, 2), padding='same')(bn8), conv1], axis=3)\n",
        "    conv9 = Conv2D(64, (3, 3), padding='same')(up9)\n",
        "    bn9 = Activation('relu')(conv9)\n",
        "    conv9 = Conv2D(64, (3, 3), padding='same')(bn9)\n",
        "    bn9 = BatchNormalization(axis=3)(conv9)\n",
        "    bn9 = Activation('relu')(bn9)\n",
        "\n",
        "    conv10 = Conv2D(1, (1, 1), activation='sigmoid')(bn9)\n",
        "\n",
        "    return Model(inputs=[inputs], outputs=[conv10])"
      ],
      "metadata": {
        "execution": {
          "iopub.status.busy": "2023-04-14T12:03:59.585125Z",
          "iopub.execute_input": "2023-04-14T12:03:59.585719Z",
          "iopub.status.idle": "2023-04-14T12:03:59.603720Z",
          "shell.execute_reply.started": "2023-04-14T12:03:59.585684Z",
          "shell.execute_reply": "2023-04-14T12:03:59.602466Z"
        },
        "trusted": true,
        "id": "w_yCOtka1_sn"
      },
      "execution_count": null,
      "outputs": []
    },
    {
      "cell_type": "code",
      "source": [
        "# Set parameters\n",
        "EPOCHS = 4\n",
        "BATCH_SIZE = 2\n",
        "learning_rate = 1e-2"
      ],
      "metadata": {
        "execution": {
          "iopub.status.busy": "2023-04-14T12:04:12.895065Z",
          "iopub.execute_input": "2023-04-14T12:04:12.895479Z",
          "iopub.status.idle": "2023-04-14T12:04:12.900018Z",
          "shell.execute_reply.started": "2023-04-14T12:04:12.895444Z",
          "shell.execute_reply": "2023-04-14T12:04:12.899001Z"
        },
        "trusted": true,
        "id": "2kqNHwjw1_sn"
      },
      "execution_count": null,
      "outputs": []
    },
    {
      "cell_type": "code",
      "source": [
        "smooth = 1,\n",
        "\n",
        "def dice_coef(y_true, y_pred):\n",
        "    y_true = K.flatten(y_true)\n",
        "    y_pred = K.flatten(y_pred)\n",
        "    intersection = K.sum(y_true * y_pred)\n",
        "    union = K.sum(y_true) + K.sum(y_pred)\n",
        "    return (2.0 * intersection + smooth) / (union + smooth)\n",
        "\n",
        "def dice_coef_loss(y_true, y_pred):\n",
        "    return 1 - dice_coef(y_true, y_pred)\n",
        "\n",
        "def bce_dice_loss(y_true, y_pred):\n",
        "    bce = tf.keras.losses.BinaryCrossentropy(from_logits=True)\n",
        "    return dice_coef_loss(y_true, y_pred) + bce(y_true, y_pred)\n",
        "\n",
        "def iou(y_true, y_pred):\n",
        "    intersection = K.sum(y_true * y_pred)\n",
        "    sum_ = K.sum(y_true + y_pred)\n",
        "    jac = (intersection + smooth) / (sum_ - intersection + smooth)\n",
        "    return jac"
      ],
      "metadata": {
        "execution": {
          "iopub.status.busy": "2023-04-14T12:04:17.007093Z",
          "iopub.execute_input": "2023-04-14T12:04:17.007511Z",
          "iopub.status.idle": "2023-04-14T12:04:17.016253Z",
          "shell.execute_reply.started": "2023-04-14T12:04:17.007475Z",
          "shell.execute_reply": "2023-04-14T12:04:17.015103Z"
        },
        "trusted": true,
        "id": "0nH8HBig1_sn"
      },
      "execution_count": null,
      "outputs": []
    },
    {
      "cell_type": "code",
      "source": [
        "train_generator_args = dict(rotation_range=0.1,\n",
        "                            width_shift_range=0.05,\n",
        "                            height_shift_range=0.05,\n",
        "                            shear_range=0.05,\n",
        "                            zoom_range=0.05,\n",
        "                            horizontal_flip=True,\n",
        "                            vertical_flip=True,\n",
        "                            fill_mode='nearest')\n",
        "train_gen = train_generator(df_train, BATCH_SIZE,\n",
        "                                train_generator_args,\n",
        "                                target_size=IMAGE_SIZE)\n",
        "    \n",
        "val_gen = train_generator(df_val, BATCH_SIZE,\n",
        "                                dict(),\n",
        "                                target_size=IMAGE_SIZE)\n",
        "    \n",
        "model = unet(input_size=(IMAGE_SIZE[0], IMAGE_SIZE[1], 3))\n",
        "\n",
        "\n",
        "\n",
        "opt = Adam(lr=learning_rate, beta_1=0.9, beta_2=0.999, epsilon=None, amsgrad=False)\n",
        "model.compile(optimizer=opt, loss=bce_dice_loss, metrics=[iou, dice_coef])\n",
        "\n",
        "callbacks = [ModelCheckpoint('unet_brainMRI_seg.hdf5', verbose=0, save_best_only=True),\n",
        "            ReduceLROnPlateau(monitor='val_loss', factor=0.1, patience=5, verbose=1, min_lr=1e-11),\n",
        "            EarlyStopping(monitor='val_loss', restore_best_weights=True, patience=15)]\n",
        "\n",
        "history = model.fit(train_gen,\n",
        "                    steps_per_epoch=len(df_train) / BATCH_SIZE, \n",
        "                    epochs=EPOCHS, \n",
        "                    callbacks=callbacks,\n",
        "                    validation_data = val_gen,\n",
        "                    validation_steps=len(df_val) / BATCH_SIZE)"
      ],
      "metadata": {
        "execution": {
          "iopub.status.busy": "2023-04-14T12:04:58.794246Z",
          "iopub.execute_input": "2023-04-14T12:04:58.794611Z",
          "iopub.status.idle": "2023-04-14T12:12:38.717481Z",
          "shell.execute_reply.started": "2023-04-14T12:04:58.794580Z",
          "shell.execute_reply": "2023-04-14T12:12:38.716465Z"
        },
        "trusted": true,
        "id": "ze6Hk0gu1_so"
      },
      "execution_count": null,
      "outputs": []
    },
    {
      "cell_type": "code",
      "source": [
        "test_gen = train_generator(df_test, BATCH_SIZE,\n",
        "                                dict(),\n",
        "                                target_size=IMAGE_SIZE)\n",
        "results = model.evaluate(test_gen, steps=len(df_test) / BATCH_SIZE)\n",
        "print(\"Test IOU: \",results[1])\n",
        "print(\"Test Dice Coefficent: \",results[2])"
      ],
      "metadata": {
        "execution": {
          "iopub.status.busy": "2023-04-14T12:14:34.541163Z",
          "iopub.execute_input": "2023-04-14T12:14:34.541554Z",
          "iopub.status.idle": "2023-04-14T12:14:44.594158Z",
          "shell.execute_reply.started": "2023-04-14T12:14:34.541521Z",
          "shell.execute_reply": "2023-04-14T12:14:44.593174Z"
        },
        "trusted": true,
        "id": "5aCbHiW01_so"
      },
      "execution_count": null,
      "outputs": []
    },
    {
      "cell_type": "code",
      "source": [
        "for i in range(30):\n",
        "    index=np.random.randint(1,len(df_test.index))\n",
        "    img = cv2.imread(df_test['image_path'].iloc[index])\n",
        "    img = cv2.resize(img ,IMAGE_SIZE)\n",
        "    img = img / 255\n",
        "    img = img[np.newaxis, :, :, :]\n",
        "    pred=model.predict(img)\n",
        "\n",
        "    plt.figure(figsize=(12,12))\n",
        "    plt.subplot(1,3,1)\n",
        "    plt.imshow(np.squeeze(img))\n",
        "    plt.title('Original Image')\n",
        "    plt.subplot(1,3,2)\n",
        "    plt.imshow(np.squeeze(cv2.imread(df_test['mask_path'].iloc[index])))\n",
        "    plt.title('Original Mask')\n",
        "    plt.subplot(1,3,3)\n",
        "    plt.imshow(np.squeeze(pred) > .5)\n",
        "    plt.title('Prediction')\n",
        "    plt.show()"
      ],
      "metadata": {
        "execution": {
          "iopub.status.busy": "2023-04-14T12:14:51.787043Z",
          "iopub.execute_input": "2023-04-14T12:14:51.787750Z",
          "iopub.status.idle": "2023-04-14T12:15:05.818492Z",
          "shell.execute_reply.started": "2023-04-14T12:14:51.787713Z",
          "shell.execute_reply": "2023-04-14T12:15:05.817573Z"
        },
        "trusted": true,
        "id": "ejcLBQRY1_so"
      },
      "execution_count": null,
      "outputs": []
    },
    {
      "cell_type": "code",
      "source": [
        "loss = history.history[\"loss\"]  # loss function (MSE)\n",
        "acc = history.history[\"accuracy\"] "
      ],
      "metadata": {
        "execution": {
          "iopub.status.busy": "2023-04-14T12:15:10.557733Z",
          "iopub.execute_input": "2023-04-14T12:15:10.558140Z",
          "iopub.status.idle": "2023-04-14T12:15:10.582388Z",
          "shell.execute_reply.started": "2023-04-14T12:15:10.558086Z",
          "shell.execute_reply": "2023-04-14T12:15:10.581175Z"
        },
        "trusted": true,
        "id": "SF6G7NcT1_so"
      },
      "execution_count": null,
      "outputs": []
    },
    {
      "cell_type": "code",
      "source": [
        "print(\"Accuracy by UNet: \",results[2]*100,\"%\")"
      ],
      "metadata": {
        "execution": {
          "iopub.status.busy": "2023-04-14T12:15:15.589884Z",
          "iopub.execute_input": "2023-04-14T12:15:15.590294Z",
          "iopub.status.idle": "2023-04-14T12:15:15.596686Z",
          "shell.execute_reply.started": "2023-04-14T12:15:15.590258Z",
          "shell.execute_reply": "2023-04-14T12:15:15.595330Z"
        },
        "trusted": true,
        "id": "l1ZkXJZy1_sp"
      },
      "execution_count": null,
      "outputs": []
    },
    {
      "cell_type": "code",
      "source": [
        "epoch = np.arange(EPOCHS)\n",
        "plt.plot(epoch, loss)\n",
        "# plt.plot(epoch, val_loss)\n",
        "plt.xlabel('Epochs')\n",
        "plt.ylabel('Loss')\n",
        "plt.title('Training Loss')\n",
        "plt.legend(['train', 'val'])"
      ],
      "metadata": {
        "execution": {
          "iopub.status.busy": "2023-04-14T12:15:19.114191Z",
          "iopub.execute_input": "2023-04-14T12:15:19.115297Z",
          "iopub.status.idle": "2023-04-14T12:15:19.338143Z",
          "shell.execute_reply.started": "2023-04-14T12:15:19.115258Z",
          "shell.execute_reply": "2023-04-14T12:15:19.337062Z"
        },
        "trusted": true,
        "id": "EJZH63qZ1_sp"
      },
      "execution_count": null,
      "outputs": []
    },
    {
      "cell_type": "code",
      "source": [
        "epoch = np.arange(EPOCHS)\n",
        "plt.plot(epoch, acc)\n",
        "plt.xlabel('Epochs')\n",
        "plt.ylabel('Accuracy')\n",
        "plt.title('Training Accuracy')"
      ],
      "metadata": {
        "execution": {
          "iopub.status.busy": "2023-04-14T12:15:23.486435Z",
          "iopub.execute_input": "2023-04-14T12:15:23.487210Z",
          "iopub.status.idle": "2023-04-14T12:15:23.512473Z",
          "shell.execute_reply.started": "2023-04-14T12:15:23.487171Z",
          "shell.execute_reply": "2023-04-14T12:15:23.511168Z"
        },
        "trusted": true,
        "id": "dK9jp5fn1_sp"
      },
      "execution_count": null,
      "outputs": []
    },
    {
      "cell_type": "code",
      "source": [
        "df = pd.read_csv('../input/mri-and-alzheimers/oasis_longitudinal.csv')"
      ],
      "metadata": {
        "execution": {
          "iopub.status.busy": "2023-04-14T12:15:28.250979Z",
          "iopub.execute_input": "2023-04-14T12:15:28.252011Z",
          "iopub.status.idle": "2023-04-14T12:15:28.289579Z",
          "shell.execute_reply.started": "2023-04-14T12:15:28.251972Z",
          "shell.execute_reply": "2023-04-14T12:15:28.288600Z"
        },
        "trusted": true,
        "id": "t2uo-HFd1_sp"
      },
      "execution_count": null,
      "outputs": []
    },
    {
      "cell_type": "code",
      "source": [
        "df = df.loc[df['Visit']==1] # use first visit data only because of the analysis we're doing\n",
        "df = df.reset_index(drop=True) # reset index after filtering first visit data\n",
        "df['M/F'] = df['M/F'].replace(['F','M'], [0,1]) # M/F column\n",
        "df['Group'] = df['Group'].replace(['Converted'], ['Demented']) # Target variable\n",
        "df['Group'] = df['Group'].replace(['Demented', 'Nondemented'], [1,0]) # Target variable\n",
        "df = df.drop(['MRI ID', 'Visit', 'Hand'], axis=1) # Drop unnecessary columns"
      ],
      "metadata": {
        "execution": {
          "iopub.status.busy": "2023-04-14T12:15:33.909538Z",
          "iopub.execute_input": "2023-04-14T12:15:33.910362Z",
          "iopub.status.idle": "2023-04-14T12:15:33.938539Z",
          "shell.execute_reply.started": "2023-04-14T12:15:33.910322Z",
          "shell.execute_reply": "2023-04-14T12:15:33.937203Z"
        },
        "trusted": true,
        "id": "Wfkf9_ZM1_sp"
      },
      "execution_count": null,
      "outputs": []
    },
    {
      "cell_type": "code",
      "source": [
        "# bar drawing function\n",
        "def bar_chart(feature):\n",
        "    Demented = df[df['Group']==1][feature].value_counts()\n",
        "    Nondemented = df[df['Group']==0][feature].value_counts()\n",
        "    df_bar = pd.DataFrame([Demented,Nondemented])\n",
        "    df_bar.index = ['Demented','Nondemented']\n",
        "    df_bar.plot(kind='bar',stacked=True, figsize=(8,5))"
      ],
      "metadata": {
        "execution": {
          "iopub.status.busy": "2023-04-14T12:15:39.927098Z",
          "iopub.execute_input": "2023-04-14T12:15:39.927734Z",
          "iopub.status.idle": "2023-04-14T12:15:39.933721Z",
          "shell.execute_reply.started": "2023-04-14T12:15:39.927669Z",
          "shell.execute_reply": "2023-04-14T12:15:39.932635Z"
        },
        "trusted": true,
        "id": "d_5YZuqf1_sp"
      },
      "execution_count": null,
      "outputs": []
    },
    {
      "cell_type": "markdown",
      "source": [
        "**MALE FEMALE**"
      ],
      "metadata": {
        "id": "CNnrbkl_1_sq"
      }
    },
    {
      "cell_type": "code",
      "source": [
        "# Gender  and  Group ( Femal=0, Male=1)\n",
        "bar_chart('M/F')\n",
        "plt.xlabel('Group')\n",
        "plt.ylabel('Number of patients')\n",
        "plt.legend()\n",
        "plt.title('Gender and Demented rate')"
      ],
      "metadata": {
        "execution": {
          "iopub.status.busy": "2023-04-14T12:15:44.899946Z",
          "iopub.execute_input": "2023-04-14T12:15:44.900810Z",
          "iopub.status.idle": "2023-04-14T12:15:45.119994Z",
          "shell.execute_reply.started": "2023-04-14T12:15:44.900771Z",
          "shell.execute_reply": "2023-04-14T12:15:45.119055Z"
        },
        "trusted": true,
        "id": "SnDVAAL81_sq"
      },
      "execution_count": null,
      "outputs": []
    },
    {
      "cell_type": "markdown",
      "source": [
        "**DISTRIBUTION DENSITY**"
      ],
      "metadata": {
        "id": "HYf2kmS21_sq"
      }
    },
    {
      "cell_type": "code",
      "source": [
        "facet= sns.FacetGrid(df,hue=\"Group\", aspect=3)\n",
        "facet.map(sns.kdeplot,'MMSE',shade= True)\n",
        "facet.set(xlim=(0, df['MMSE'].max()))\n",
        "facet.add_legend()\n",
        "plt.xlim(15.30)"
      ],
      "metadata": {
        "execution": {
          "iopub.status.busy": "2023-04-14T12:15:49.055603Z",
          "iopub.execute_input": "2023-04-14T12:15:49.055970Z",
          "iopub.status.idle": "2023-04-14T12:15:49.394970Z",
          "shell.execute_reply.started": "2023-04-14T12:15:49.055937Z",
          "shell.execute_reply": "2023-04-14T12:15:49.394025Z"
        },
        "trusted": true,
        "id": "an0abWC_1_sq"
      },
      "execution_count": null,
      "outputs": []
    },
    {
      "cell_type": "code",
      "source": [
        "#bar_chart('ASF') = Atlas Scaling Factor\n",
        "facet= sns.FacetGrid(df,hue=\"Group\", aspect=3)\n",
        "facet.map(sns.kdeplot,'ASF',shade= True)\n",
        "facet.set(xlim=(0, df['ASF'].max()))\n",
        "facet.add_legend()\n",
        "plt.xlim(0.5, 2)\n",
        "\n",
        "#eTIV = Estimated Total Intracranial Volume\n",
        "facet= sns.FacetGrid(df,hue=\"Group\", aspect=3)\n",
        "facet.map(sns.kdeplot,'eTIV',shade= True)\n",
        "facet.set(xlim=(0, df['eTIV'].max()))\n",
        "facet.add_legend()\n",
        "plt.xlim(900, 2100)\n",
        "\n",
        "#'nWBV' = Normalized Whole Brain Volume\n",
        "# Nondemented = 0, Demented =1\n",
        "facet= sns.FacetGrid(df,hue=\"Group\", aspect=3)\n",
        "facet.map(sns.kdeplot,'nWBV',shade= True)\n",
        "facet.set(xlim=(0, df['nWBV'].max()))\n",
        "facet.add_legend()\n",
        "plt.xlim(0.6,0.9)"
      ],
      "metadata": {
        "execution": {
          "iopub.status.busy": "2023-04-14T12:15:54.498986Z",
          "iopub.execute_input": "2023-04-14T12:15:54.499687Z",
          "iopub.status.idle": "2023-04-14T12:15:55.606391Z",
          "shell.execute_reply.started": "2023-04-14T12:15:54.499650Z",
          "shell.execute_reply": "2023-04-14T12:15:55.605396Z"
        },
        "trusted": true,
        "id": "RXmYn8g41_sq"
      },
      "execution_count": null,
      "outputs": []
    },
    {
      "cell_type": "code",
      "source": [
        "#AGE. Nondemented =0, Demented =0\n",
        "facet= sns.FacetGrid(df,hue=\"Group\", aspect=3)\n",
        "facet.map(sns.kdeplot,'Age',shade= True)\n",
        "facet.set(xlim=(0, df['Age'].max()))\n",
        "facet.add_legend()\n",
        "plt.xlim(50,100)"
      ],
      "metadata": {
        "execution": {
          "iopub.status.busy": "2023-04-14T12:16:01.091386Z",
          "iopub.execute_input": "2023-04-14T12:16:01.091776Z",
          "iopub.status.idle": "2023-04-14T12:16:01.432975Z",
          "shell.execute_reply.started": "2023-04-14T12:16:01.091728Z",
          "shell.execute_reply": "2023-04-14T12:16:01.432010Z"
        },
        "trusted": true,
        "id": "bTJCvNiB1_sr"
      },
      "execution_count": null,
      "outputs": []
    },
    {
      "cell_type": "code",
      "source": [
        "#'EDUC' = Years of Education\n",
        "# Nondemented = 0, Demented =1\n",
        "facet= sns.FacetGrid(df,hue=\"Group\", aspect=3)\n",
        "facet.map(sns.kdeplot,'EDUC',shade= True)\n",
        "facet.set(xlim=(df['EDUC'].min(), df['EDUC'].max()))\n",
        "facet.add_legend()\n",
        "plt.ylim(0, 0.16)"
      ],
      "metadata": {
        "execution": {
          "iopub.status.busy": "2023-04-14T12:16:06.558463Z",
          "iopub.execute_input": "2023-04-14T12:16:06.558823Z",
          "iopub.status.idle": "2023-04-14T12:16:06.929991Z",
          "shell.execute_reply.started": "2023-04-14T12:16:06.558792Z",
          "shell.execute_reply": "2023-04-14T12:16:06.929023Z"
        },
        "trusted": true,
        "id": "RKXK0xtr1_sr"
      },
      "execution_count": null,
      "outputs": []
    },
    {
      "cell_type": "code",
      "source": [
        "# Draw scatter plot between EDUC and SES\n",
        "x = df['EDUC']\n",
        "y = df['SES']\n",
        "\n",
        "ses_not_null_index = y[~y.isnull()].index\n",
        "x = x[ses_not_null_index]\n",
        "y = y[ses_not_null_index]\n",
        "\n",
        "# Draw trend line in red\n",
        "z = np.polyfit(x, y, 1)\n",
        "p = np.poly1d(z)\n",
        "plt.plot(x, y, 'go', x, p(x), \"r--\")\n",
        "plt.xlabel('Education Level(EDUC)')\n",
        "plt.ylabel('Social Economic Status(SES)')\n",
        "\n",
        "plt.show()"
      ],
      "metadata": {
        "execution": {
          "iopub.status.busy": "2023-04-14T12:16:12.073207Z",
          "iopub.execute_input": "2023-04-14T12:16:12.073571Z",
          "iopub.status.idle": "2023-04-14T12:16:12.275899Z",
          "shell.execute_reply.started": "2023-04-14T12:16:12.073539Z",
          "shell.execute_reply": "2023-04-14T12:16:12.275026Z"
        },
        "trusted": true,
        "id": "kQ-hhDMY1_sr"
      },
      "execution_count": null,
      "outputs": []
    },
    {
      "cell_type": "code",
      "source": [
        "df.groupby(['EDUC'])['SES'].median()"
      ],
      "metadata": {
        "execution": {
          "iopub.status.busy": "2023-04-14T12:16:16.876211Z",
          "iopub.execute_input": "2023-04-14T12:16:16.876923Z",
          "iopub.status.idle": "2023-04-14T12:16:16.891551Z",
          "shell.execute_reply.started": "2023-04-14T12:16:16.876886Z",
          "shell.execute_reply": "2023-04-14T12:16:16.890167Z"
        },
        "trusted": true,
        "id": "hZuSrZ4K1_sr"
      },
      "execution_count": null,
      "outputs": []
    },
    {
      "cell_type": "code",
      "source": [
        "df[\"SES\"].fillna(df.groupby(\"EDUC\")[\"SES\"].transform(\"median\"), inplace=True)\n",
        "# I confirm there're no more missing values and all the 150 data were used.\n",
        "pd.isnull(df['SES']).value_counts()"
      ],
      "metadata": {
        "execution": {
          "iopub.status.busy": "2023-04-14T12:16:20.651047Z",
          "iopub.execute_input": "2023-04-14T12:16:20.654461Z",
          "iopub.status.idle": "2023-04-14T12:16:20.676524Z",
          "shell.execute_reply.started": "2023-04-14T12:16:20.654416Z",
          "shell.execute_reply": "2023-04-14T12:16:20.674448Z"
        },
        "trusted": true,
        "id": "aOqMJ5TO1_ss"
      },
      "execution_count": null,
      "outputs": []
    },
    {
      "cell_type": "code",
      "source": [
        "from sklearn.model_selection import train_test_split\n",
        "from sklearn import preprocessing\n",
        "from sklearn.preprocessing import MinMaxScaler \n",
        "from sklearn.model_selection import cross_val_score"
      ],
      "metadata": {
        "execution": {
          "iopub.status.busy": "2023-04-14T12:16:25.551488Z",
          "iopub.execute_input": "2023-04-14T12:16:25.551863Z",
          "iopub.status.idle": "2023-04-14T12:16:25.557231Z",
          "shell.execute_reply.started": "2023-04-14T12:16:25.551829Z",
          "shell.execute_reply": "2023-04-14T12:16:25.556165Z"
        },
        "trusted": true,
        "id": "zNPZsyxW1_ss"
      },
      "execution_count": null,
      "outputs": []
    },
    {
      "cell_type": "code",
      "source": [
        "# Dataset with imputation\n",
        "Y = df['Group'].values # Target for the model\n",
        "X = df[['M/F', 'Age', 'EDUC', 'SES', 'MMSE', 'eTIV', 'nWBV', 'ASF']] # Features we use\n",
        "\n",
        "# splitting into three sets\n",
        "X_trainval, X_test, Y_trainval, Y_test = train_test_split(\n",
        "    X, Y, random_state=0)\n",
        "\n",
        "# Feature scaling\n",
        "scaler = MinMaxScaler().fit(X_trainval)\n",
        "X_trainval_scaled = scaler.transform(X_trainval)\n",
        "X_test_scaled = scaler.transform(X_test)"
      ],
      "metadata": {
        "execution": {
          "iopub.status.busy": "2023-04-14T12:16:29.865708Z",
          "iopub.execute_input": "2023-04-14T12:16:29.866423Z",
          "iopub.status.idle": "2023-04-14T12:16:29.888374Z",
          "shell.execute_reply.started": "2023-04-14T12:16:29.866386Z",
          "shell.execute_reply": "2023-04-14T12:16:29.886896Z"
        },
        "trusted": true,
        "id": "mw7tpjHn1_ss"
      },
      "execution_count": null,
      "outputs": []
    },
    {
      "cell_type": "markdown",
      "source": [
        "**DETECTION OF ALZHEIMER'S DUE TO PRESENCE OF TUMOUR**"
      ],
      "metadata": {
        "id": "Wn7hxssh1_ss"
      }
    },
    {
      "cell_type": "code",
      "source": [
        "from sklearn.linear_model import LogisticRegression\n",
        "from sklearn.svm import SVC\n",
        "from sklearn.tree import DecisionTreeClassifier\n",
        "from sklearn.ensemble import RandomForestClassifier\n",
        "from sklearn.ensemble import AdaBoostClassifier\n",
        "from sklearn.metrics import confusion_matrix, accuracy_score, recall_score, roc_curve, auc\n",
        "acc = [] # list to store all performance metric"
      ],
      "metadata": {
        "execution": {
          "iopub.status.busy": "2023-04-14T12:16:35.805871Z",
          "iopub.execute_input": "2023-04-14T12:16:35.806262Z",
          "iopub.status.idle": "2023-04-14T12:16:36.045178Z",
          "shell.execute_reply.started": "2023-04-14T12:16:35.806229Z",
          "shell.execute_reply": "2023-04-14T12:16:36.044237Z"
        },
        "trusted": true,
        "id": "TDAbrmTs1_ss"
      },
      "execution_count": null,
      "outputs": []
    },
    {
      "cell_type": "markdown",
      "source": [
        "**Logistic Regression**"
      ],
      "metadata": {
        "id": "Eywfe1pk1_ss"
      }
    },
    {
      "cell_type": "code",
      "source": [
        "best_score=0\n",
        "kfolds=5 # set the number of folds\n",
        "\n",
        "for c in [0.001, 0.1, 1, 10, 100]:\n",
        "    logRegModel = LogisticRegression(C=c)\n",
        "    # perform cross-validation\n",
        "    scores = cross_val_score(logRegModel, X_trainval, Y_trainval, cv=kfolds, scoring='accuracy') # Get recall for each parameter setting\n",
        "    \n",
        "    # compute mean cross-validation accuracy\n",
        "    score = np.mean(scores)\n",
        "    \n",
        "    # Find the best parameters and score\n",
        "    if score > best_score:\n",
        "        best_score = score\n",
        "        best_parameters = c\n",
        "\n",
        "# rebuild a model on the combined training and validation set\n",
        "SelectedLogRegModel = LogisticRegression(C=best_parameters).fit(X_trainval_scaled, Y_trainval)\n",
        "\n",
        "test_score = SelectedLogRegModel.score(X_test_scaled, Y_test)\n",
        "PredictedOutput = SelectedLogRegModel.predict(X_test_scaled)\n",
        "test_recall = recall_score(Y_test, PredictedOutput, pos_label=1)\n",
        "fpr, tpr, thresholds = roc_curve(Y_test, PredictedOutput, pos_label=1)\n",
        "test_auc = auc(fpr, tpr)\n",
        "print(\"Best accuracy on validation set is:\", best_score)\n",
        "print(\"Best parameter for regularization (C) is: \", best_parameters)\n",
        "print(\"Test accuracy (F1 Score) with best C parameter is\", test_score)\n",
        "print(\"Test recall with the best C parameter is\", test_recall)\n",
        "print(\"Test AUC with the best C parameter is\", test_auc)\n",
        "m = 'Logistic Regression (w/ imputation)'\n",
        "acc.append([m, test_score, test_recall, test_auc, fpr, tpr, thresholds])"
      ],
      "metadata": {
        "execution": {
          "iopub.status.busy": "2023-04-14T12:16:40.466546Z",
          "iopub.execute_input": "2023-04-14T12:16:40.466918Z",
          "iopub.status.idle": "2023-04-14T12:16:41.011818Z",
          "shell.execute_reply.started": "2023-04-14T12:16:40.466884Z",
          "shell.execute_reply": "2023-04-14T12:16:41.010790Z"
        },
        "trusted": true,
        "id": "dpUlR1VQ1_ss"
      },
      "execution_count": null,
      "outputs": []
    },
    {
      "cell_type": "markdown",
      "source": [
        "**SVM**"
      ],
      "metadata": {
        "id": "f-YxBV1K1_st"
      }
    },
    {
      "cell_type": "code",
      "source": [
        "best_score = 0\n",
        "\n",
        "for c_paramter in [0.001, 0.01, 0.1, 1, 10, 100, 1000]: #iterate over the values we need to try for the parameter C\n",
        "    for gamma_paramter in [0.001, 0.01, 0.1, 1, 10, 100, 1000]: #iterate over the values we need to try for the parameter gamma\n",
        "        for k_parameter in ['rbf', 'linear', 'poly', 'sigmoid']: # iterate over the values we need to try for the kernel parameter\n",
        "            svmModel = SVC(kernel=k_parameter, C=c_paramter, gamma=gamma_paramter) #define the model\n",
        "            # perform cross-validation\n",
        "            scores = cross_val_score(svmModel, X_trainval_scaled, Y_trainval, cv=kfolds, scoring='accuracy')\n",
        "            # the training set will be split internally into training and cross validation\n",
        "\n",
        "            # compute mean cross-validation accuracy\n",
        "            score = np.mean(scores)\n",
        "            # if we got a better score, store the score and parameters\n",
        "            if score > best_score:\n",
        "                best_score = score #store the score \n",
        "                best_parameter_c = c_paramter #store the parameter c\n",
        "                best_parameter_gamma = gamma_paramter #store the parameter gamma\n",
        "                best_parameter_k = k_parameter\n",
        "            \n",
        "\n",
        "# rebuild a model with best parameters to get score \n",
        "SelectedSVMmodel = SVC(C=best_parameter_c, gamma=best_parameter_gamma, kernel=best_parameter_k).fit(X_trainval_scaled, Y_trainval)\n",
        "\n",
        "test_score = SelectedSVMmodel.score(X_test_scaled, Y_test)\n",
        "PredictedOutput = SelectedSVMmodel.predict(X_test_scaled)\n",
        "test_recall = recall_score(Y_test, PredictedOutput, pos_label=1)\n",
        "fpr, tpr, thresholds = roc_curve(Y_test, PredictedOutput, pos_label=1)\n",
        "test_auc = auc(fpr, tpr)\n",
        "print(\"Best accuracy on cross validation set is:\", best_score)\n",
        "print(\"Best parameter for c is: \", best_parameter_c)\n",
        "print(\"Best parameter for gamma is: \", best_parameter_gamma)\n",
        "print(\"Best parameter for kernel is: \", best_parameter_k)\n",
        "print(\"Test accuracy with the best parameters is\", test_score)\n",
        "print(\"Test recall with the best parameters is\", test_recall)\n",
        "print(\"Test recall with the best parameter is\", test_auc)\n",
        "\n",
        "m = 'SVM'\n",
        "acc.append([m, test_score, test_recall, test_auc, fpr, tpr, thresholds])"
      ],
      "metadata": {
        "execution": {
          "iopub.status.busy": "2023-04-14T12:16:46.791385Z",
          "iopub.execute_input": "2023-04-14T12:16:46.791746Z",
          "iopub.status.idle": "2023-04-14T12:16:52.193835Z",
          "shell.execute_reply.started": "2023-04-14T12:16:46.791713Z",
          "shell.execute_reply": "2023-04-14T12:16:52.192628Z"
        },
        "trusted": true,
        "id": "FRip3j1U1_st"
      },
      "execution_count": null,
      "outputs": []
    },
    {
      "cell_type": "markdown",
      "source": [
        "**Decision Tree**"
      ],
      "metadata": {
        "id": "sg8AEtW_1_st"
      }
    },
    {
      "cell_type": "code",
      "source": [
        "best_score = 0\n",
        "\n",
        "for md in range(1, 9): # iterate different maximum depth values\n",
        "    # train the model\n",
        "    treeModel = DecisionTreeClassifier(random_state=0, max_depth=md, criterion='gini')\n",
        "    # perform cross-validation\n",
        "    scores = cross_val_score(treeModel, X_trainval_scaled, Y_trainval, cv=kfolds, scoring='accuracy')\n",
        "    \n",
        "    # compute mean cross-validation accuracy\n",
        "    score = np.mean(scores)\n",
        "    \n",
        "    # if we got a better score, store the score and parameters\n",
        "    if score > best_score:\n",
        "        best_score = score\n",
        "        best_parameter = md\n",
        "\n",
        "# Rebuild a model on the combined training and validation set        \n",
        "SelectedDTModel = DecisionTreeClassifier(max_depth=best_parameter).fit(X_trainval_scaled, Y_trainval )\n",
        "\n",
        "test_score = SelectedDTModel.score(X_test_scaled, Y_test)\n",
        "PredictedOutput = SelectedDTModel.predict(X_test_scaled)\n",
        "test_recall = recall_score(Y_test, PredictedOutput, pos_label=1)\n",
        "fpr, tpr, thresholds = roc_curve(Y_test, PredictedOutput, pos_label=1)\n",
        "test_auc = auc(fpr, tpr)\n",
        "print(\"Best accuracy on validation set is:\", best_score)\n",
        "print(\"Best parameter for the maximum depth is: \", best_parameter)\n",
        "print(\"Test accuracy with best parameter is \", test_score)\n",
        "print(\"Test recall with best parameters is \", test_recall)\n",
        "print(\"Test AUC with the best parameter is \", test_auc)\n",
        "\n",
        "m = 'Decision Tree'\n",
        "acc.append([m, test_score, test_recall, test_auc, fpr, tpr, thresholds])\n"
      ],
      "metadata": {
        "execution": {
          "iopub.status.busy": "2023-04-14T12:16:58.195436Z",
          "iopub.execute_input": "2023-04-14T12:16:58.195799Z",
          "iopub.status.idle": "2023-04-14T12:16:58.267046Z",
          "shell.execute_reply.started": "2023-04-14T12:16:58.195767Z",
          "shell.execute_reply": "2023-04-14T12:16:58.265899Z"
        },
        "trusted": true,
        "id": "VFhSVrUr1_st"
      },
      "execution_count": null,
      "outputs": []
    },
    {
      "cell_type": "code",
      "source": [
        "print(\"Feature importance: \")\n",
        "np.array([X.columns.values.tolist(), list(SelectedDTModel.feature_importances_)]).T"
      ],
      "metadata": {
        "execution": {
          "iopub.status.busy": "2023-04-14T12:17:03.934491Z",
          "iopub.execute_input": "2023-04-14T12:17:03.934851Z",
          "iopub.status.idle": "2023-04-14T12:17:03.943407Z",
          "shell.execute_reply.started": "2023-04-14T12:17:03.934820Z",
          "shell.execute_reply": "2023-04-14T12:17:03.942161Z"
        },
        "trusted": true,
        "id": "MMy5GDOh1_st"
      },
      "execution_count": null,
      "outputs": []
    },
    {
      "cell_type": "code",
      "source": [
        "from sklearn.tree import export_graphviz\n",
        "import graphviz \n",
        "dot_data=export_graphviz(SelectedDTModel, feature_names=X_trainval.columns.values.tolist(),out_file=None)\n",
        "graph = graphviz.Source(dot_data)  \n",
        "graph "
      ],
      "metadata": {
        "execution": {
          "iopub.status.busy": "2023-04-14T12:17:08.348436Z",
          "iopub.execute_input": "2023-04-14T12:17:08.348800Z",
          "iopub.status.idle": "2023-04-14T12:17:09.308209Z",
          "shell.execute_reply.started": "2023-04-14T12:17:08.348770Z",
          "shell.execute_reply": "2023-04-14T12:17:09.307075Z"
        },
        "trusted": true,
        "id": "KadxsRfZ1_st"
      },
      "execution_count": null,
      "outputs": []
    },
    {
      "cell_type": "code",
      "source": [
        "**Random Forest**"
      ],
      "metadata": {
        "id": "TVie6uUP1_su"
      },
      "execution_count": null,
      "outputs": []
    },
    {
      "cell_type": "code",
      "source": [
        "best_score = 0\n",
        "\n",
        "for M in range(2, 15, 2): # combines M trees\n",
        "    for d in range(1, 9): # maximum number of features considered at each split\n",
        "        for m in range(1, 9): # maximum depth of the tree\n",
        "            # train the model\n",
        "            # n_jobs(4) is the number of parallel computing\n",
        "            forestModel = RandomForestClassifier(n_estimators=M, max_features=d, n_jobs=4,\n",
        "                                          max_depth=m, random_state=0)\n",
        "        \n",
        "            # perform cross-validation\n",
        "            scores = cross_val_score(forestModel, X_trainval_scaled, Y_trainval, cv=kfolds, scoring='accuracy')\n",
        "\n",
        "            # compute mean cross-validation accuracy\n",
        "            score = np.mean(scores)\n",
        "\n",
        "            # if we got a better score, store the score and parameters\n",
        "            if score > best_score:\n",
        "                best_score = score\n",
        "                best_M = M\n",
        "                best_d = d\n",
        "                best_m = m\n",
        "\n",
        "# Rebuild a model on the combined training and validation set        \n",
        "SelectedRFModel = RandomForestClassifier(n_estimators=M, max_features=d,\n",
        "                                          max_depth=m, random_state=0).fit(X_trainval_scaled, Y_trainval )\n",
        "\n",
        "PredictedOutput = SelectedRFModel.predict(X_test_scaled)\n",
        "test_score = SelectedRFModel.score(X_test_scaled, Y_test)\n",
        "test_recall = recall_score(Y_test, PredictedOutput, pos_label=1)\n",
        "fpr, tpr, thresholds = roc_curve(Y_test, PredictedOutput, pos_label=1)\n",
        "test_auc = auc(fpr, tpr)\n",
        "print(\"Best accuracy on validation set is:\", best_score)\n",
        "print(\"Best parameters of M, d, m are: \", best_M, best_d, best_m)\n",
        "print(\"Test accuracy with the best parameters is\", test_score)\n",
        "print(\"Test recall with the best parameters is:\", test_recall)\n",
        "print(\"Test AUC with the best parameters is:\", test_auc)\n",
        "\n",
        "m = 'Random Forest'\n",
        "acc.append([m, test_score, test_recall, test_auc, fpr, tpr, thresholds])\n"
      ],
      "metadata": {
        "execution": {
          "iopub.status.busy": "2023-04-14T12:20:42.885840Z",
          "iopub.execute_input": "2023-04-14T12:20:42.886245Z",
          "iopub.status.idle": "2023-04-14T12:25:54.809485Z",
          "shell.execute_reply.started": "2023-04-14T12:20:42.886209Z",
          "shell.execute_reply": "2023-04-14T12:25:54.808135Z"
        },
        "trusted": true,
        "id": "4i7K0coY1_su"
      },
      "execution_count": null,
      "outputs": []
    },
    {
      "cell_type": "markdown",
      "source": [
        "**AdaBoost**"
      ],
      "metadata": {
        "id": "Fyb7sbx31_su"
      }
    },
    {
      "cell_type": "code",
      "source": [
        "best_score = 0\n",
        "\n",
        "for M in range(2, 15, 2): # combines M trees\n",
        "    for lr in [0.0001, 0.001, 0.01, 0.1, 1]:\n",
        "        # train the model\n",
        "        boostModel = AdaBoostClassifier(n_estimators=M, learning_rate=lr, random_state=0)\n",
        "\n",
        "        # perform cross-validation\n",
        "        scores = cross_val_score(boostModel, X_trainval_scaled, Y_trainval, cv=kfolds, scoring='accuracy')\n",
        "\n",
        "        # compute mean cross-validation accuracy\n",
        "        score = np.mean(scores)\n",
        "\n",
        "        # if we got a better score, store the score and parameters\n",
        "        if score > best_score:\n",
        "            best_score = score\n",
        "            best_M = M\n",
        "            best_lr = lr\n",
        "\n",
        "# Rebuild a model on the combined training and validation set        \n",
        "SelectedBoostModel = AdaBoostClassifier(n_estimators=M, learning_rate=lr, random_state=0).fit(X_trainval_scaled, Y_trainval )\n",
        "\n",
        "PredictedOutput = SelectedBoostModel.predict(X_test_scaled)\n",
        "test_score = SelectedRFModel.score(X_test_scaled, Y_test)\n",
        "test_recall = recall_score(Y_test, PredictedOutput, pos_label=1)\n",
        "fpr, tpr, thresholds = roc_curve(Y_test, PredictedOutput, pos_label=1)\n",
        "test_auc = auc(fpr, tpr)\n",
        "print(\"Best accuracy on validation set is:\", best_score)\n",
        "print(\"Best parameter of M is: \", best_M)\n",
        "print(\"best parameter of LR is: \", best_lr)\n",
        "print(\"Test accuracy with the best parameter is\", test_score)\n",
        "print(\"Test recall with the best parameters is:\", test_recall)\n",
        "print(\"Test AUC with the best parameters is:\", test_auc)\n",
        "\n",
        "m = 'AdaBoost'\n",
        "acc.append([m, test_score, test_recall, test_auc, fpr, tpr, thresholds])"
      ],
      "metadata": {
        "execution": {
          "iopub.status.busy": "2023-04-14T12:29:15.313503Z",
          "iopub.execute_input": "2023-04-14T12:29:15.313927Z",
          "iopub.status.idle": "2023-04-14T12:29:17.363178Z",
          "shell.execute_reply.started": "2023-04-14T12:29:15.313889Z",
          "shell.execute_reply": "2023-04-14T12:29:17.362124Z"
        },
        "trusted": true,
        "id": "CWSZzKTS1_sv"
      },
      "execution_count": null,
      "outputs": []
    },
    {
      "cell_type": "code",
      "source": [
        "print(\"Feature importance: \")\n",
        "np.array([X.columns.values.tolist(), list(SelectedBoostModel.feature_importances_)]).T"
      ],
      "metadata": {
        "execution": {
          "iopub.status.busy": "2023-04-14T12:29:20.317425Z",
          "iopub.execute_input": "2023-04-14T12:29:20.318177Z",
          "iopub.status.idle": "2023-04-14T12:29:20.327998Z",
          "shell.execute_reply.started": "2023-04-14T12:29:20.318131Z",
          "shell.execute_reply": "2023-04-14T12:29:20.326832Z"
        },
        "trusted": true,
        "id": "TzjaBdOg1_sv"
      },
      "execution_count": null,
      "outputs": []
    }
  ]
}